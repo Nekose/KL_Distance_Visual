{
 "cells": [
  {
   "cell_type": "markdown",
   "metadata": {},
   "source": [
    "# KL Distance Cytoscape Visualization, Version 0.7\n",
    "#### By Peter Rucker, ptrucker@ucdavis.edu\n",
    "\n",
    "## Purpose:\n",
    "The purpose of this script is to take data from multiple samples, calculate pair-wise KL distance for each sample pair, and then generate a format which can be interpreted by Cytoscape for visualization.\n",
    "\n",
    "## Modules Required:\n",
    "Pandas, Numpy\n",
    "\n",
    "## Input:\n",
    "\n",
    "The first line of code with \"current_file\" should be updated to reflect a input data in the same folder as the script.\n",
    "\n",
    "Input data will be in the form of a comma seperated file (.csv), the contents of which must obey this format:\n",
    "\n",
    "| *Notes*         | Sample Name 1 | Sample Name 2 |\n",
    "| ------------ | ------------- | ------------- |\n",
    "| Event Type 1 | 10            | 12            |\n",
    "| Event Type 2 | 1             | 23            |\n",
    "\n",
    "* Sample Name will refer to the unique samples studied in this data\n",
    "* Event Type refers to the events observed and counted, across all samples\n",
    "* The values underneath each sample name should be whole numbers counting the observed event for each sample. **Note: This must be observed counts, Not frequencies.**\n",
    "* The \"Notes\" field is optional, and can be used for metadata\n",
    "\n",
    "## Output:\n",
    "Once all cells of the notebook have been ran, the script will output the name of the file created. The file will be a .fsi format ready to be imported as a \"Network from file\" in Cytoscape."
   ]
  },
  {
   "cell_type": "code",
   "execution_count": 12,
   "metadata": {},
   "outputs": [],
   "source": [
    "current_file=\"##############""
   ]
  },
  {
   "cell_type": "code",
   "execution_count": 13,
   "metadata": {},
   "outputs": [],
   "source": [
    "import numpy as np\n",
    "import pandas as pd\n",
    "import csv\n",
    "from datetime import date\n",
    "import os\n",
    "todaydate = date.today()\n",
    "outputname=(\"kl_cyto_\" + current_file[:-4] + str(todaydate) + \".fsi\")\n",
    "with open(current_file) as file:\n",
    "    header = file.readline().split(\",\")\n",
    "uniqueindex = header[0]   "
   ]
  },
  {
   "cell_type": "code",
   "execution_count": 14,
   "metadata": {},
   "outputs": [],
   "source": [
    "KLdf=pd.read_csv(current_file)\n",
    "KLdf.set_index(uniqueindex, inplace=True)"
   ]
  },
  {
   "cell_type": "code",
   "execution_count": 15,
   "metadata": {},
   "outputs": [],
   "source": [
    "#adding one to every field for psuedocounting purposes\n",
    "KLdf = KLdf.astype(\"float64\")\n",
    "for key, row in KLdf.iteritems():\n",
    "    for key2, row2 in row.iteritems():\n",
    "        KLdf.loc[key2][key] += 1\n",
    "        \n",
    "for key, row in KLdf.iteritems():\n",
    "    for key2, row2 in row.iteritems():\n",
    "        if KLdf.loc[key2][key] <= 0:\n",
    "            print(\"error in\",key2,key)"
   ]
  },
  {
   "cell_type": "code",
   "execution_count": 16,
   "metadata": {},
   "outputs": [],
   "source": [
    "#Convert dataframes to frequencies of each column\n",
    "for key, row in KLdf.iteritems():\n",
    "    for key2, row2 in row.iteritems():\n",
    "        value = KLdf.loc[key2][key]\n",
    "        KLdf.loc[key2][key] = (value / sum(row))"
   ]
  },
  {
   "cell_type": "code",
   "execution_count": 17,
   "metadata": {},
   "outputs": [],
   "source": [
    "# calculating KL distance between two distrubtions. Distance(P||Q) = summation[Pi*Log2(Pi/Qi)]\n",
    "KLresults = {}\n",
    "for key, row in KLdf.iteritems():\n",
    "    for key2, row2 in KLdf.iteritems():\n",
    "        if key == key2:\n",
    "            continue\n",
    "        data = row * np.log2(row/row2)\n",
    "        resultkey = key + \" \" + key2\n",
    "        reversekey = key2 + \" \" + key\n",
    "        if reversekey in KLresults:\n",
    "            KLresults[reversekey] += sum(data)\n",
    "        else:\n",
    "            KLresults[resultkey] = sum(data)"
   ]
  },
  {
   "cell_type": "code",
   "execution_count": 18,
   "metadata": {},
   "outputs": [],
   "source": [
    "resultframe = pd.DataFrame.from_dict(KLresults, orient = 'index', columns = [\"KL_Distance\"])\n",
    "resultframe.reset_index(inplace=True)\n",
    "\n",
    "# splitting dictionary key column into two seperate columns:\n",
    "# new data frame with split index columns \n",
    "new = resultframe[\"index\"].str.split(\" \", n = 1, expand = True)\n",
    "# making separate columns from new data frame \n",
    "resultframe[\"Node_1\"]= new[0]\n",
    "resultframe[\"Node_2\"]= new[1] \n",
    "  \n",
    "# Dropping old index columns \n",
    "resultframe.drop(columns =[\"index\"], inplace = True) \n",
    "resultframe = resultframe[['Node_1','Node_2',\"KL_Distance\"]]"
   ]
  },
  {
   "cell_type": "code",
   "execution_count": 19,
   "metadata": {},
   "outputs": [
    {
     "name": "stdout",
     "output_type": "stream",
     "text": [
      "File kl_cyto_kmers0427202020-04-27.fsi has been succesfully created\n"
     ]
    }
   ],
   "source": [
    "f = open(outputname, \"w\")\n",
    "f.write(resultframe.to_csv(index=False, sep='\\t'))\n",
    "f.close()\n",
    "print(f\"File {outputname} has been succesfully created\")"
   ]
  },
  {
   "cell_type": "code",
   "execution_count": null,
   "metadata": {},
   "outputs": [],
   "source": []
  }
 ],
 "metadata": {
  "kernelspec": {
   "display_name": "Python 3",
   "language": "python",
   "name": "python3"
  },
  "language_info": {
   "codemirror_mode": {
    "name": "ipython",
    "version": 3
   },
   "file_extension": ".py",
   "mimetype": "text/x-python",
   "name": "python",
   "nbconvert_exporter": "python",
   "pygments_lexer": "ipython3",
   "version": "3.6.10"
  }
 },
 "nbformat": 4,
 "nbformat_minor": 4
}
